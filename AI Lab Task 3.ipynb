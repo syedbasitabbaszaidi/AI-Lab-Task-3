{
 "cells": [
  {
   "cell_type": "code",
   "execution_count": 8,
   "id": "cde48a79",
   "metadata": {},
   "outputs": [],
   "source": [
    "class SImpleReflexAgent():\n",
    "    def __init__(self,desired_temp):\n",
    "        self.desired_temp = desired_temp\n",
    "    def percieve(self,current_temp):\n",
    "        self.current_temp = current_temp\n",
    "        return self.current_temp\n",
    "    def act(self):\n",
    "        if self.current_temp < self.desired_temp:\n",
    "            action = \"Turn on heater\"\n",
    "        else:\n",
    "            action = \"Turn off heater\"\n",
    "        return action\n",
    "previous_temp = \"Off\""
   ]
  },
  {
   "cell_type": "code",
   "execution_count": 9,
   "id": "2e98d635",
   "metadata": {},
   "outputs": [],
   "source": [
    "agent = SImpleReflexAgent(22)\n",
    "rooms = {\n",
    "    \"Living Room\": 18,\n",
    "    \"Bedroom\": 22,\n",
    "    \"Kitchen\": 20,\n",
    "    \"Bathroom\": 24\n",
    "}"
   ]
  },
  {
   "cell_type": "code",
   "execution_count": 16,
   "id": "a5560f86",
   "metadata": {},
   "outputs": [
    {
     "name": "stdout",
     "output_type": "stream",
     "text": [
      "Do you want update any temperature(Y/N):y\n",
      "Enter room name:Kitchen\n",
      "Enter new temperature:24\n",
      "Temperature updated successfully\n"
     ]
    }
   ],
   "source": [
    "def update_temp(room,temp):\n",
    "    x = True\n",
    "    for i in room_names:\n",
    "        if i == room:\n",
    "            rooms.update({room:temp})\n",
    "            x = False\n",
    "    if x == True:\n",
    "        print(\"This room does not exist\")\n",
    "a = input(\"Do you want update any temperature(Y/N):\")\n",
    "if a.upper() == \"Y\":\n",
    "    room = input(\"Enter room name:\")\n",
    "    temp = int(input(\"Enter new temperature:\"))\n",
    "    update_temp(room,temp)\n",
    "    print(\"Temperature updated successfully\")"
   ]
  },
  {
   "cell_type": "code",
   "execution_count": 17,
   "id": "5cf24f85",
   "metadata": {},
   "outputs": [],
   "source": [
    "room_names = rooms.keys()\n",
    "room_names = list(room_names)\n",
    "room_temps = rooms.values()\n",
    "room_temps= list(room_temps)"
   ]
  },
  {
   "cell_type": "code",
   "execution_count": 18,
   "id": "d68093b1",
   "metadata": {},
   "outputs": [
    {
     "name": "stdout",
     "output_type": "stream",
     "text": [
      "Living Room: Current temperature ==> 18°C. Turn on heater.\n",
      "Bedroom: Current temperature ==> 13°C. Heater is already on\n",
      "Kitchen: Current temperature ==> 24°C. Turn off heater.\n",
      "Bathroom: Current temperature ==> 24°C. Heater is already off\n"
     ]
    }
   ],
   "source": [
    "for room,temp in rooms.items():\n",
    "    x = True\n",
    "    for i in room_names:\n",
    "        if i == room:\n",
    "            a = room_names.index(i)\n",
    "            if temp < agent.desired_temp and previous_temp == \"On\":\n",
    "                print(f\"{room}: Current temperature ==> {temp}°C. Heater is already on\")\n",
    "            elif temp < agent.desired_temp and previous_temp == \"Off\":\n",
    "                agent.percieve(temp)\n",
    "                print(f\"{room}: Current temperature ==> {temp}°C. {agent.act()}.\")\n",
    "                previous_temp = \"On\"\n",
    "            elif temp >= agent.desired_temp and previous_temp == \"Off\":\n",
    "                print(f\"{room}: Current temperature ==> {temp}°C. Heater is already off\")\n",
    "            else:\n",
    "                agent.percieve(temp)\n",
    "                print(f\"{room}: Current temperature ==> {temp}°C. {agent.act()}.\")\n",
    "                previous_temp = \"Off\""
   ]
  },
  {
   "cell_type": "code",
   "execution_count": null,
   "id": "cb71d116",
   "metadata": {},
   "outputs": [],
   "source": []
  },
  {
   "cell_type": "code",
   "execution_count": null,
   "id": "86c17449",
   "metadata": {},
   "outputs": [],
   "source": []
  },
  {
   "cell_type": "code",
   "execution_count": null,
   "id": "6a3884a2",
   "metadata": {},
   "outputs": [],
   "source": []
  },
  {
   "cell_type": "code",
   "execution_count": null,
   "id": "26613758",
   "metadata": {},
   "outputs": [],
   "source": []
  }
 ],
 "metadata": {
  "kernelspec": {
   "display_name": "Python 3 (ipykernel)",
   "language": "python",
   "name": "python3"
  },
  "language_info": {
   "codemirror_mode": {
    "name": "ipython",
    "version": 3
   },
   "file_extension": ".py",
   "mimetype": "text/x-python",
   "name": "python",
   "nbconvert_exporter": "python",
   "pygments_lexer": "ipython3",
   "version": "3.11.5"
  }
 },
 "nbformat": 4,
 "nbformat_minor": 5
}
